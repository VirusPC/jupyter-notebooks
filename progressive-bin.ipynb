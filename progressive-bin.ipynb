{
 "cells": [
  {
   "cell_type": "code",
   "execution_count": 1,
   "metadata": {},
   "outputs": [],
   "source": [
    "import pandas as pd\n",
    "import math\n",
    "import asyncio\n",
    "import vega\n",
    "import ipywidgets as widgets\n",
    "from ipywidgets import VBox, HBox, Label, Button, interact, FloatProgress\n",
    "from vega.widget import VegaWidget\n",
    "import time\n",
    "import numpy as np"
   ]
  },
  {
   "cell_type": "code",
   "execution_count": 2,
   "metadata": {},
   "outputs": [
    {
     "data": {
      "text/html": [
       "<div>\n",
       "<style scoped>\n",
       "    .dataframe tbody tr th:only-of-type {\n",
       "        vertical-align: middle;\n",
       "    }\n",
       "\n",
       "    .dataframe tbody tr th {\n",
       "        vertical-align: top;\n",
       "    }\n",
       "\n",
       "    .dataframe thead th {\n",
       "        text-align: right;\n",
       "    }\n",
       "</style>\n",
       "<table border=\"1\" class=\"dataframe\">\n",
       "  <thead>\n",
       "    <tr style=\"text-align: right;\">\n",
       "      <th></th>\n",
       "      <th>x</th>\n",
       "      <th>y</th>\n",
       "    </tr>\n",
       "  </thead>\n",
       "  <tbody>\n",
       "    <tr>\n",
       "      <th>0</th>\n",
       "      <td>79</td>\n",
       "      <td>24</td>\n",
       "    </tr>\n",
       "    <tr>\n",
       "      <th>1</th>\n",
       "      <td>85</td>\n",
       "      <td>27</td>\n",
       "    </tr>\n",
       "    <tr>\n",
       "      <th>2</th>\n",
       "      <td>73</td>\n",
       "      <td>47</td>\n",
       "    </tr>\n",
       "    <tr>\n",
       "      <th>3</th>\n",
       "      <td>55</td>\n",
       "      <td>85</td>\n",
       "    </tr>\n",
       "    <tr>\n",
       "      <th>4</th>\n",
       "      <td>52</td>\n",
       "      <td>3</td>\n",
       "    </tr>\n",
       "    <tr>\n",
       "      <th>...</th>\n",
       "      <td>...</td>\n",
       "      <td>...</td>\n",
       "    </tr>\n",
       "    <tr>\n",
       "      <th>99995</th>\n",
       "      <td>25</td>\n",
       "      <td>5</td>\n",
       "    </tr>\n",
       "    <tr>\n",
       "      <th>99996</th>\n",
       "      <td>74</td>\n",
       "      <td>54</td>\n",
       "    </tr>\n",
       "    <tr>\n",
       "      <th>99997</th>\n",
       "      <td>18</td>\n",
       "      <td>74</td>\n",
       "    </tr>\n",
       "    <tr>\n",
       "      <th>99998</th>\n",
       "      <td>95</td>\n",
       "      <td>86</td>\n",
       "    </tr>\n",
       "    <tr>\n",
       "      <th>99999</th>\n",
       "      <td>20</td>\n",
       "      <td>36</td>\n",
       "    </tr>\n",
       "  </tbody>\n",
       "</table>\n",
       "<p>100000 rows × 2 columns</p>\n",
       "</div>"
      ],
      "text/plain": [
       "        x   y\n",
       "0      79  24\n",
       "1      85  27\n",
       "2      73  47\n",
       "3      55  85\n",
       "4      52   3\n",
       "...    ..  ..\n",
       "99995  25   5\n",
       "99996  74  54\n",
       "99997  18  74\n",
       "99998  95  86\n",
       "99999  20  36\n",
       "\n",
       "[100000 rows x 2 columns]"
      ]
     },
     "execution_count": 2,
     "metadata": {},
     "output_type": "execute_result"
    }
   ],
   "source": [
    "randomdf = pd.read_csv(\"./data/random100k.csv\")[[\"x\", \"y\"]]\n",
    "randomdf"
   ]
  },
  {
   "cell_type": "code",
   "execution_count": 3,
   "metadata": {},
   "outputs": [
    {
     "data": {
      "text/plain": [
       "85"
      ]
     },
     "execution_count": 3,
     "metadata": {},
     "output_type": "execute_result"
    }
   ],
   "source": [
    "randomdf.loc[1,\"x\"]"
   ]
  },
  {
   "cell_type": "raw",
   "metadata": {},
   "source": []
  },
  {
   "cell_type": "code",
   "execution_count": 4,
   "metadata": {},
   "outputs": [],
   "source": [
    "# params\n",
    "# xSpan = 50  # count is better for progressive\n",
    "# ySpan = 50 # count is better for progressive\n",
    "width = 300\n",
    "height=300\n",
    "xRectCount = 5\n",
    "yRectCount = 5\n",
    "xDomain = [0, 100]\n",
    "yDomain = [0, 100]\n",
    "xStep = int(math.ceil(xDomain[1] / xRectCount))\n",
    "yStep = int(math.ceil(yDomain[1] / yRectCount))\n",
    "xDomain = [0, xStep * xRectCount]\n",
    "yDomain=[0, yStep * yRectCount]"
   ]
  },
  {
   "cell_type": "code",
   "execution_count": 5,
   "metadata": {},
   "outputs": [],
   "source": [
    "spec_with_data = {\n",
    "  \"$schema\": \"https://vega.github.io/schema/vega-lite/v5.json\",\n",
    "  \"width\": width,\n",
    "  \"height\": height,\n",
    "  \"params\": [\n",
    "    {\"name\": \"xRectCount\", \"value\": xRectCount},\n",
    "    {\"name\": \"yRectCount\", \"value\": yRectCount},\n",
    "    {\"name\": \"xDomain\", \"value\": xDomain},\n",
    "    {\"name\": \"yDomain\", \"value\": yDomain}\n",
    "  ],\n",
    "  \"data\": {\n",
    "    \"values\": [\n",
    "      {\"x\": 25, \"y\": 25, \"count\": 1},\n",
    "      {\"x\": 25, \"y\": 75, \"count\": 2},\n",
    "      {\"x\": 75, \"y\": 25, \"count\": 3},\n",
    "      {\"x\": 75, \"y\": 75, \"count\": 4}\n",
    "    ]\n",
    "  },\n",
    "  \"mark\": {\n",
    "    \"type\": \"rect\",\n",
    "    \"cornerRadius\": 0,\n",
    "    #\"width\": {\"expr\": \"width/xRectCount\"},\n",
    "    #\"height\": {\"expr\": \"height/yRectCount\"},\n",
    "    \"width\": width/xRectCount,\n",
    "    \"height\": height/yRectCount\n",
    "  },\n",
    "  \"encoding\": {\n",
    "    \"x\": {\n",
    "      \"field\": \"x\",\n",
    "      \"type\": \"quantitative\",\n",
    "      # \"scale\": {\"type\": \"linear\", \"domain\": {\"expr\": \"xDomain\"}}\n",
    "      \"scale\": {\"type\": \"linear\", \"domain\": xDomain}\n",
    "    },\n",
    "    \"y\": {\n",
    "      \"field\": \"y\",\n",
    "      \"type\": \"quantitative\",\n",
    "      #\"scale\": {\"type\": \"linear\", \"domain\": {\"expr\": \"yDomain\"}}\n",
    "      \"scale\": {\"type\": \"linear\", \"domain\": xDomain}\n",
    "    },\n",
    "    \"fill\": {\n",
    "      \"field\": \"count\",\n",
    "      \"type\": \"quantitative\"\n",
    "    }\n",
    "  }\n",
    "}"
   ]
  },
  {
   "cell_type": "code",
   "execution_count": 6,
   "metadata": {},
   "outputs": [],
   "source": [
    "spec_no_data = {\n",
    "  \"$schema\": \"https://vega.github.io/schema/vega-lite/v5.json\",\n",
    "  \"title\": \"x-y-bin\",\n",
    "  \"width\": width,\n",
    "  \"height\": height,\n",
    "\n",
    "  \"params\": [\n",
    "    {\"name\": \"xRectCount\", \"value\": xRectCount},\n",
    "    {\"name\": \"yRectCount\", \"value\": yRectCount},\n",
    "    {\"name\": \"xDomain\", \"value\": xDomain},\n",
    "    {\"name\": \"yDomain\", \"value\": yDomain}\n",
    "  ],\n",
    "  \"data\": {\"name\": \"randomNumbers\"},\n",
    "  \"mark\": {\n",
    "    \"type\": \"rect\",\n",
    "    \"cornerRadius\": 0,\n",
    "    \"width\": width/xRectCount,\n",
    "    \"height\": height/yRectCount\n",
    "  },\n",
    "  \"encoding\": {\n",
    "    \"x\": {\n",
    "      \"field\": \"x\",\n",
    "      \"type\": \"quantitative\",\n",
    "      \"scale\": {\"type\": \"linear\", \"domain\": xDomain}\n",
    "    },\n",
    "    \"y\": {\n",
    "      \"field\": \"y\",\n",
    "      \"type\": \"quantitative\",\n",
    "      \"scale\": {\"type\": \"linear\", \"domain\": yDomain}\n",
    "    },\n",
    "    \"fill\": {\n",
    "      \"field\": \"count\",\n",
    "      \"type\": \"quantitative\"\n",
    "    }\n",
    "  }\n",
    "}"
   ]
  },
  {
   "cell_type": "code",
   "execution_count": 7,
   "metadata": {},
   "outputs": [],
   "source": [
    "testSummary = [{\"x\": 25, \"y\": 25, \"count\": 1},\n",
    "      {\"x\": 25, \"y\": 75, \"count\": 2},\n",
    "      {\"x\": 75, \"y\": 25, \"count\": 3},\n",
    "      {\"x\": 75, \"y\": 75, \"count\": 4}]"
   ]
  },
  {
   "cell_type": "code",
   "execution_count": 8,
   "metadata": {},
   "outputs": [
    {
     "data": {
      "text/plain": [
       "[{'x': 25.0, 'y': 25.0, 'count': 0},\n",
       " {'x': 25.0, 'y': 75.0, 'count': 0},\n",
       " {'x': 75.0, 'y': 25.0, 'count': 0},\n",
       " {'x': 75.0, 'y': 75.0, 'count': 0}]"
      ]
     },
     "execution_count": 8,
     "metadata": {},
     "output_type": "execute_result"
    }
   ],
   "source": [
    "\n",
    "def initSummary(xDomain, yDomain, xStep, yStep):\n",
    "    halfXStep = xStep/2\n",
    "    halfYStep = yStep/2\n",
    "    summary = []\n",
    "    for i in range(xDomain[0], xDomain[1], xStep):\n",
    "        for j in range(yDomain[0], yDomain[1], yStep):\n",
    "            summary.append({\"x\": i+halfXStep, \"y\": j+halfYStep, \"count\": 0})\n",
    "    return summary\n",
    "\n",
    "initSummary(xDomain, yDomain, 50, 50)"
   ]
  },
  {
   "cell_type": "code",
   "execution_count": 9,
   "metadata": {},
   "outputs": [],
   "source": [
    "def accSummary(summary, df, xStep, yStep, start):\n",
    "    halfXStep = xStep/2\n",
    "    halfYStep = yStep/2\n",
    "    for i in range(len(df)):\n",
    "        x = df.loc[start+i, \"x\"]\n",
    "        y = df.loc[start+i, \"y\"]\n",
    "        find = False\n",
    "        for j in range(len(summary)):\n",
    "            summaryX = summary[j]['x']\n",
    "            summaryY = summary[j]['y']\n",
    "            if summaryX-halfXStep<=x and x <=summaryX+halfXStep and summaryY-halfYStep<=y and y<=summaryY+halfYStep:\n",
    "                summary[j]['count'] = summary[j]['count'] + 1\n",
    "                find=True\n",
    "                break\n",
    "        if(not find):\n",
    "            print(\"error occured: \", \"x:\", x, \"y:\",y)\n",
    "    return summary\n",
    "\n",
    "# display(accSummary(initSummary(xDomain, yDomain, 50, 50), randomdf, xStep, yStep, 0))"
   ]
  },
  {
   "cell_type": "code",
   "execution_count": 10,
   "metadata": {},
   "outputs": [],
   "source": [
    "widget = VegaWidget(spec=spec_no_data)#, opt={\"height\": \"300\"})\n",
    "stopButton = Button(\n",
    "    description='Stop/Continue',\n",
    "    disabled=False,\n",
    "    button_style='',\n",
    "    tooltip='click to stop calculation and view udpate'\n",
    ")\n",
    "restartButton = Button(\n",
    "    description='Restart',\n",
    "    disabled=False,\n",
    "    button_style='',\n",
    "    tooltip='click to restart calculation and view update'\n",
    ")\n",
    "progressBar = FloatProgress(min=0, max=1.0)"
   ]
  },
  {
   "cell_type": "code",
   "execution_count": 11,
   "metadata": {},
   "outputs": [],
   "source": [
    "\"\"\"shared data\"\"\"\n",
    "stop = False\n",
    "progressiveSummaryTask = None"
   ]
  },
  {
   "cell_type": "code",
   "execution_count": 17,
   "metadata": {},
   "outputs": [],
   "source": [
    "async def progressiveSummary(df):\n",
    "    \"\"\"\n",
    "    Split data into segments. caclulate summary and update widgets progressively.\n",
    "    \"\"\"\n",
    "    global stop  # a boolean flag to control stop/continue\n",
    "    summary = initSummary(xDomain, yDomain, xStep, yStep)\n",
    "    \n",
    "    itrNum = 10\n",
    "    batchSize = len(df) / itrNum \n",
    "    for itr in range(itrNum):\n",
    "        \n",
    "        # stop calculation\n",
    "        while stop:\n",
    "            await asyncio.sleep(0.01)\n",
    "            \n",
    "        # 1. get a data segement\n",
    "        min = int(itr*batchSize)\n",
    "        max = int(min + batchSize)\n",
    "        dfSegment = df[min: max]\n",
    "        \n",
    "        # 2. calculate new summary with previous summary and current data segment\n",
    "        summary = accSummary(summary, dfSegment, xStep, yStep, min) \n",
    "        \n",
    "        # 3. update widgets\n",
    "        widget.update(\"randomNumbers\", remove=\"true\", insert=summary)\n",
    "        progressBar.value = (itr+1)/itrNum\n",
    "        \n",
    "        # 4. wait for user input\n",
    "        await asyncio.sleep(1)"
   ]
  },
  {
   "cell_type": "code",
   "execution_count": 18,
   "metadata": {},
   "outputs": [],
   "source": [
    "def stopButtonListener(b):\n",
    "    global stop\n",
    "    if stop:\n",
    "        stop = False\n",
    "        print(\"************* continue **************\")\n",
    "    else:\n",
    "        stop = True\n",
    "        print(\"************* stop **************\")\n",
    "\n",
    "stopButton.on_click(stopButtonListener)"
   ]
  },
  {
   "cell_type": "code",
   "execution_count": 19,
   "metadata": {},
   "outputs": [],
   "source": [
    "def restartButtonListener(b):\n",
    "    global stop\n",
    "    global progressiveSummaryTask\n",
    "    stop = False\n",
    "    progressBar.value = 0\n",
    "    if progressiveSummaryTask:\n",
    "        progressiveSummaryTask.cancel()\n",
    "    loop = asyncio.get_event_loop()\n",
    "    progressiveSummaryTask = loop.create_task(progressiveSummary(randomdf))\n",
    "    print(\"************* restart **************\")\n",
    "\n",
    "restartButton.on_click(restartButtonListener)"
   ]
  },
  {
   "cell_type": "code",
   "execution_count": 20,
   "metadata": {},
   "outputs": [
    {
     "data": {
      "application/vnd.jupyter.widget-view+json": {
       "model_id": "a9063c7b08734cc7a5eaa5a96572b3f6",
       "version_major": 2,
       "version_minor": 0
      },
      "text/plain": [
       "VBox(children=(FloatProgress(value=1.0, max=1.0), VegaWidget(), HBox(children=(Button(description='Stop/Contin…"
      ]
     },
     "metadata": {},
     "output_type": "display_data"
    }
   ],
   "source": [
    "VBox([progressBar, widget, HBox([stopButton, restartButton])])"
   ]
  },
  {
   "cell_type": "code",
   "execution_count": 21,
   "metadata": {},
   "outputs": [
    {
     "name": "stdout",
     "output_type": "stream",
     "text": [
      "************* restart **************\n"
     ]
    }
   ],
   "source": [
    "restartButtonListener(None)\n",
    "# global syncActiveTask\n",
    "# global progressiveSummaryTask\n",
    "# global updateWidgetAsyncTask\n",
    "# loop = asyncio.get_event_loop();\n",
    "# syncActiveTask = loop.create_task(syncActiveLock())\n",
    "# progressiveSummaryTask = loop.create_task(progressiveSummary());\n",
    "# updateWidgetAsyncTask = loop.create_task(updateWidgetAsync());"
   ]
  },
  {
   "cell_type": "code",
   "execution_count": null,
   "metadata": {},
   "outputs": [],
   "source": []
  }
 ],
 "metadata": {
  "kernelspec": {
   "display_name": "Python 3",
   "language": "python",
   "name": "python3"
  },
  "language_info": {
   "codemirror_mode": {
    "name": "ipython",
    "version": 3
   },
   "file_extension": ".py",
   "mimetype": "text/x-python",
   "name": "python",
   "nbconvert_exporter": "python",
   "pygments_lexer": "ipython3",
   "version": "3.8.8"
  }
 },
 "nbformat": 4,
 "nbformat_minor": 2
}
