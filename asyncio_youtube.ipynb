{
 "cells": [
  {
   "cell_type": "markdown",
   "id": "d2a57d49",
   "metadata": {},
   "source": [
    "from youtube: https://www.youtube.com/watch?v=t5Bo1Je9EmE"
   ]
  },
  {
   "cell_type": "code",
   "execution_count": 1,
   "id": "3ec5ce11",
   "metadata": {},
   "outputs": [],
   "source": [
    "import asyncio"
   ]
  },
  {
   "cell_type": "code",
   "execution_count": 2,
   "id": "c0689442",
   "metadata": {},
   "outputs": [],
   "source": [
    "async def task1():\n",
    "    for i in range(10):\n",
    "        print(\"+++\", i)\n",
    "        await asyncio.sleep(0.1)"
   ]
  },
  {
   "cell_type": "code",
   "execution_count": 3,
   "id": "06fda09a",
   "metadata": {},
   "outputs": [],
   "source": [
    "async def task2():\n",
    "    for i in range(10):\n",
    "        print(\"---\", i)\n",
    "        await asyncio.sleep(0.1)"
   ]
  },
  {
   "cell_type": "code",
   "execution_count": 4,
   "id": "9f248da7",
   "metadata": {},
   "outputs": [],
   "source": [
    "async def main():  # return a coroutine object\n",
    "    loop = asyncio.get_event_loop();\n",
    "    task1 = loop.create_task(task1());\n",
    "    task2 = loop.create_task(task2());\n"
   ]
  },
  {
   "cell_type": "code",
   "execution_count": 7,
   "id": "c75efa15",
   "metadata": {},
   "outputs": [
    {
     "name": "stdout",
     "output_type": "stream",
     "text": [
      "+++ 0\n",
      "--- 0\n",
      "+++ 1\n",
      "--- 1\n",
      "+++ 2\n",
      "--- 2\n",
      "+++ 3\n",
      "--- 3\n",
      "+++ 4\n",
      "--- 4\n",
      "+++ 5\n",
      "--- 5\n",
      "+++ 6\n",
      "--- 6\n",
      "+++ 7\n",
      "--- 7\n",
      "+++ 8\n",
      "--- 8\n",
      "+++ 9\n",
      "--- 9\n"
     ]
    }
   ],
   "source": [
    "# await main()  # await can only be used inside a coroutine\n",
    "await main()"
   ]
  },
  {
   "cell_type": "code",
   "execution_count": 6,
   "id": "fca080ed",
   "metadata": {},
   "outputs": [],
   "source": [
    "## asyncio.run(main)  # entry point coroutine"
   ]
  }
 ],
 "metadata": {
  "kernelspec": {
   "display_name": "Python 3",
   "language": "python",
   "name": "python3"
  },
  "language_info": {
   "codemirror_mode": {
    "name": "ipython",
    "version": 3
   },
   "file_extension": ".py",
   "mimetype": "text/x-python",
   "name": "python",
   "nbconvert_exporter": "python",
   "pygments_lexer": "ipython3",
   "version": "3.8.8"
  }
 },
 "nbformat": 4,
 "nbformat_minor": 5
}
