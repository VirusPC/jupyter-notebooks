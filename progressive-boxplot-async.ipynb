{
 "cells": [
  {
   "cell_type": "code",
   "execution_count": 1,
   "metadata": {},
   "outputs": [],
   "source": [
    "import pandas as pd\n",
    "import math\n",
    "import asyncio\n",
    "import vega\n",
    "import ipywidgets as widgets\n",
    "from ipywidgets import VBox, HBox, Label, Button, interact\n",
    "from vega.widget import VegaWidget"
   ]
  },
  {
   "cell_type": "code",
   "execution_count": 2,
   "metadata": {},
   "outputs": [],
   "source": [
    "dataframe = pd.read_csv(\"./data/penguins.csv\")\n",
    "data = dataframe.sample(n=len(dataframe), random_state=42).reset_index(drop=True)\n",
    "data = list(map(lambda item: [item[0], item[len(item)-2]], data.values))"
   ]
  },
  {
   "cell_type": "code",
   "execution_count": 3,
   "metadata": {},
   "outputs": [],
   "source": [
    "# data2 = pd.read_json(\"./data/summary.json\")\n",
    "# data2"
   ]
  },
  {
   "cell_type": "code",
   "execution_count": 4,
   "metadata": {},
   "outputs": [],
   "source": [
    "spec_no_data = {\n",
    "  \"$schema\": \"https://vega.github.io/schema/vega-lite/v5.json\",\n",
    "  \"title\": \"Body Mass of Penguin species (g)\",\n",
    "  \"width\": 400,\n",
    "  \"height\": 300,\n",
    "  \"autosize\":{\n",
    "    \"type\": \"pad\",\n",
    "    \"resize\": \"true\"\n",
    "  },\n",
    "  \"data\": {\n",
    "    \"name\": \"penguins\"\n",
    "  },\n",
    "  \"encoding\": {\n",
    "    \"y\": {\n",
    "      \"field\": \"species\",\n",
    "      \"type\": \"nominal\",\n",
    "      \"title\": None\n",
    "    }\n",
    "  },\n",
    "  \"layer\": [\n",
    "    {\n",
    "      \"mark\": {\n",
    "        \"type\": \"rule\"\n",
    "      },\n",
    "      \"encoding\": {\n",
    "        \"x\": {\n",
    "          \"field\": \"lower\",\n",
    "          \"type\": \"quantitative\",\n",
    "          \"scale\": {\n",
    "            \"zero\": \"false\"\n",
    "          },\n",
    "          \"title\": None\n",
    "        },\n",
    "        \"x2\": {\n",
    "          \"field\": \"upper\"\n",
    "        }\n",
    "      }\n",
    "    },\n",
    "    {\n",
    "      \"mark\": {\n",
    "        \"type\": \"bar\",\n",
    "        \"size\": 14\n",
    "      },\n",
    "      \"encoding\": {\n",
    "        \"x\": {\n",
    "          \"field\": \"q1\",\n",
    "          \"type\": \"quantitative\"\n",
    "        },\n",
    "        \"x2\": {\n",
    "          \"field\": \"q3\"\n",
    "        },\n",
    "        \"color\": {\n",
    "          \"field\": \"species\",\n",
    "          \"type\": \"nominal\",\n",
    "          \"legend\": None\n",
    "        }\n",
    "      }\n",
    "    },\n",
    "    {\n",
    "      \"mark\": {\n",
    "        \"type\": \"tick\",\n",
    "        \"color\": \"white\",\n",
    "        \"size\": 14\n",
    "      },\n",
    "      \"encoding\": {\n",
    "        \"x\": {\n",
    "          \"field\": \"median\",\n",
    "          \"type\": \"quantitative\"\n",
    "        }\n",
    "      }\n",
    "    },\n",
    "    {\n",
    "      \"transform\": [\n",
    "        {\n",
    "          \"flatten\": [\n",
    "            \"outliers\"\n",
    "          ]\n",
    "        }\n",
    "      ],\n",
    "      \"mark\": {\n",
    "        \"type\": \"point\",\n",
    "        \"style\": \"boxplot-outliers\"\n",
    "      },\n",
    "      \"encoding\": {\n",
    "        \"x\": {\n",
    "          \"field\": \"outliers\",\n",
    "          \"type\": \"quantitative\"\n",
    "        }\n",
    "      }\n",
    "    }\n",
    "  ]\n",
    "}"
   ]
  },
  {
   "cell_type": "code",
   "execution_count": 5,
   "metadata": {},
   "outputs": [],
   "source": [
    "def quantileSorted(arrSorted, q):\n",
    "    length = len(arrSorted)\n",
    "    base = length * q - 0.5\n",
    "    first = arrSorted[math.ceil(base)]\n",
    "    second = arrSorted[math.floor(base)]\n",
    "    return (first + second) / 2"
   ]
  },
  {
   "cell_type": "code",
   "execution_count": 6,
   "metadata": {},
   "outputs": [],
   "source": [
    "\n",
    "def calculateSummary(key, sortedArr):\n",
    "    if len(sortedArr) <= 0:\n",
    "        return {\n",
    "            \"Species\": key,\n",
    "            \"lower\": 0,\n",
    "            \"q1\": 0,\n",
    "            \"median\": 0,\n",
    "            \"q3\": 0,\n",
    "            \"upper\": 0,\n",
    "            \"outliers\": 0, \n",
    "        }\n",
    "    q1 = quantileSorted(sortedArr, 0.25)\n",
    "    median = quantileSorted(sortedArr, 0.5)\n",
    "    q3 = quantileSorted(sortedArr, 0.75)\n",
    "    \n",
    "    iqr = q3 - q1\n",
    "    top = q3 + 1.5 * iqr\n",
    "    bottom = q1 - 1.5 * iqr\n",
    "    upper = sortedArr[0]\n",
    "    lower = sortedArr[0]\n",
    "    outliers = []\n",
    "    for i in range(len(sortedArr)):\n",
    "        curNum = sortedArr[i]\n",
    "        if (curNum < bottom) or (curNum > top):\n",
    "            outliers.append(curNum)\n",
    "        elif curNum > upper:\n",
    "            upper = curNum\n",
    "        elif curNum < lower:\n",
    "            lower = curNum\n",
    "    \n",
    "    return {\n",
    "        \"species\": key,\n",
    "        \"lower\": lower,\n",
    "        \"q1\": q1,\n",
    "        \"median\": median,\n",
    "        \"q3\": q3,\n",
    "        \"upper\": upper,\n",
    "        \"outliers\": outliers,\n",
    "    }\n"
   ]
  },
  {
   "cell_type": "code",
   "execution_count": 7,
   "metadata": {},
   "outputs": [],
   "source": [
    "def summaryData(dataMerged):\n",
    "    summary = [];\n",
    "    for key in dataMerged.keys():\n",
    "        masses = dataMerged[key]\n",
    "        summary.append(calculateSummary(key, masses))\n",
    "    return summary"
   ]
  },
  {
   "cell_type": "code",
   "execution_count": 8,
   "metadata": {},
   "outputs": [],
   "source": [
    "def group(data):\n",
    "    res = {'Adelie': [], 'Chinstrap': [], 'Gentoo': []}\n",
    "    for item in data:\n",
    "        species = item[0];\n",
    "        res[species].append(item[1])\n",
    "    return res"
   ]
  },
  {
   "cell_type": "code",
   "execution_count": 9,
   "metadata": {},
   "outputs": [],
   "source": [
    "def mergeSortedData(oldData, newData):\n",
    "    newLength = len(newData)\n",
    "    if (newLength == 0):\n",
    "        return oldData\n",
    "    oldLength = len(oldData)\n",
    "    if(oldLength == 0):\n",
    "        return newData\n",
    "    result = []\n",
    "    m = 0\n",
    "    n = 0\n",
    "    while m < oldLength and n < newLength:\n",
    "        if oldData[m] <= newData[n]:\n",
    "            result.append(oldData[m])\n",
    "            m += 1\n",
    "        else:\n",
    "            result.append(newData[n])\n",
    "            n += 1\n",
    "    \n",
    "    if m >= oldLength:\n",
    "        result.append(newData[n])\n",
    "        n += 1\n",
    "        while n < newLength:\n",
    "            result.append(newData[n])\n",
    "            n += 1\n",
    "    elif n >= newLength:\n",
    "        result.append(oldData[m])\n",
    "        m += 1\n",
    "        while m < oldLength:\n",
    "            result.append(oldData[m])\n",
    "            m += 1\n",
    "    \n",
    "    return result\n",
    "\n",
    "\n",
    "def mergeData(dataMerged, dataSegment):\n",
    "    for key in dataMerged.keys():\n",
    "        valuesOld = dataMerged[key]\n",
    "        valuesNew = dataSegment[key]\n",
    "        valuesNew.sort()\n",
    "        # sorted(valuesNew, key=lambda a,b: a-b)\n",
    "        dataMerged[key] = mergeSortedData(valuesOld, valuesNew)\n",
    "    return dataMerged\n"
   ]
  },
  {
   "cell_type": "code",
   "execution_count": 10,
   "metadata": {},
   "outputs": [
    {
     "data": {
      "text/plain": [
       "[1, 2, 3, 4, 6]"
      ]
     },
     "execution_count": 10,
     "metadata": {},
     "output_type": "execute_result"
    }
   ],
   "source": [
    "mergeSortedData([1, 3, 4], [2, 6])"
   ]
  },
  {
   "cell_type": "code",
   "execution_count": 11,
   "metadata": {},
   "outputs": [],
   "source": [
    "widget = VegaWidget(spec=spec_no_data)#, opt={\"height\": \"300\"})\n",
    "stopButton = Button(\n",
    "    description='Stop/Continue',\n",
    "    disabled=False,\n",
    "    button_style='',\n",
    "    tooltip='click to stop calculation and view udpate'\n",
    ")\n",
    "restartButton = Button(\n",
    "    description='Restart',\n",
    "    disabled=False,\n",
    "    button_style='',\n",
    "    tooltip='click to restart calculation and view update'\n",
    ")"
   ]
  },
  {
   "cell_type": "code",
   "execution_count": 12,
   "metadata": {},
   "outputs": [],
   "source": [
    "\"\"\"shared data\"\"\"\n",
    "summary = []  # result calculated by 'progressiveSummary', and used by 'updateWidgetAsync' to update Widgets\n",
    "stop = False\n",
    "activeLock = asyncio.Lock()  # default: False\n",
    "syncActiveTask = None\n",
    "progressiveSummaryTask = None\n",
    "updateWidgetAsyncTask = None"
   ]
  },
  {
   "cell_type": "code",
   "execution_count": 13,
   "metadata": {},
   "outputs": [],
   "source": [
    "async def progressiveSummary():\n",
    "    \"\"\"\n",
    "    Task1\n",
    "    Split data into segments. caclulate summary progressively\n",
    "    \"\"\"\n",
    "    global summary\n",
    "    global activeLock\n",
    "    batchSize = 30\n",
    "    itrNum = math.ceil(len(data) / batchSize)\n",
    "    dataMerged = {'Adelie': [], 'Chinstrap': [], 'Gentoo': []}\n",
    "\n",
    "    for itr in range(itrNum):\n",
    "        await activeLock.acquire()\n",
    "        activeLock.release()\n",
    "        dataSegment = data[itr * batchSize: (itr+1) * batchSize]  # get current data segment\n",
    "        dataGrouped = group(dataSegment)  # group data by \"species\" field\n",
    "        dataMerged = mergeData(dataMerged, dataGrouped)  # merge current data segment with previous data\n",
    "        summary = summaryData(dataMerged)  # calculate summary\n",
    "        print(\"calculated\")\n",
    "        await asyncio.sleep(1)"
   ]
  },
  {
   "cell_type": "code",
   "execution_count": 14,
   "metadata": {},
   "outputs": [],
   "source": [
    "async def updateWidgetAsync():\n",
    "    \"\"\"\n",
    "    Task2\n",
    "    Update widget with the global variable 'summary' per second\n",
    "    \"\"\"\n",
    "    global summary\n",
    "    global activeLock\n",
    "    while True:\n",
    "        await activeLock.acquire()\n",
    "        activeLock.release()\n",
    "        widget.update(\"penguins\", remove=\"true\", insert=summary)\n",
    "        print(\"widget updated\")\n",
    "        await asyncio.sleep(1)"
   ]
  },
  {
   "cell_type": "code",
   "execution_count": 15,
   "metadata": {},
   "outputs": [],
   "source": [
    "async def syncActiveLock():\n",
    "    \"\"\"\n",
    "    Task3\n",
    "    lock/unlock the \"activeLock\" according to the \"stop\" flag\n",
    "    \"\"\"\n",
    "    global stop\n",
    "    global activeLock\n",
    "    while True:\n",
    "        await asyncio.sleep(0.1)\n",
    "        if not stop and activeLock.locked():\n",
    "            activeLock.release()\n",
    "        elif stop and not activeLock.locked():\n",
    "            await activeLock.acquire()\n",
    "            \n",
    "            "
   ]
  },
  {
   "cell_type": "code",
   "execution_count": 16,
   "metadata": {},
   "outputs": [],
   "source": [
    "def stopButtonListener(b):\n",
    "    global stop\n",
    "    if stop:\n",
    "        stop = False\n",
    "        print(\"************* continue **************\")\n",
    "    else:\n",
    "        stop = True\n",
    "        print(\"************* stop **************\")\n",
    "\n",
    "stopButton.on_click(stopButtonListener)"
   ]
  },
  {
   "cell_type": "code",
   "execution_count": 17,
   "metadata": {},
   "outputs": [],
   "source": [
    "def restartButtonListener(b):\n",
    "    global stop\n",
    "    global activeLock\n",
    "    global summary\n",
    "    global syncActiveTask\n",
    "    global progressiveSummaryTask\n",
    "    global updateWidgetAsyncTask\n",
    "    summary = []\n",
    "    stop = False\n",
    "    if activeLock.locked():\n",
    "        activeLock.release()\n",
    "    if syncActiveTask:\n",
    "        syncActiveTask.cancel()\n",
    "    if progressiveSummaryTask:\n",
    "        progressiveSummaryTask.cancel()\n",
    "    if updateWidgetAsyncTask:\n",
    "        updateWidgetAsyncTask.cancel()\n",
    "    loop = asyncio.get_event_loop()\n",
    "    syncActiveTask = loop.create_task(syncActiveLock())\n",
    "    progressiveSummaryTask = loop.create_task(progressiveSummary());\n",
    "    updateWidgetAsyncTask = loop.create_task(updateWidgetAsync());\n",
    "    print(\"************* restart **************\")\n",
    "\n",
    "restartButton.on_click(restartButtonListener)"
   ]
  },
  {
   "cell_type": "code",
   "execution_count": 18,
   "metadata": {},
   "outputs": [
    {
     "data": {
      "application/vnd.jupyter.widget-view+json": {
       "model_id": "613833fbbfcf475fa739fa38fc94daf8",
       "version_major": 2,
       "version_minor": 0
      },
      "text/plain": [
       "VBox(children=(VegaWidget(), HBox(children=(Button(description='Stop/Continue', style=ButtonStyle(), tooltip='…"
      ]
     },
     "metadata": {},
     "output_type": "display_data"
    }
   ],
   "source": [
    "VBox([widget, HBox([stopButton, restartButton])])"
   ]
  },
  {
   "cell_type": "code",
   "execution_count": 19,
   "metadata": {},
   "outputs": [],
   "source": [
    "global syncActiveTask\n",
    "global progressiveSummaryTask\n",
    "global updateWidgetAsyncTask\n",
    "loop = asyncio.get_event_loop();\n",
    "syncActiveTask = loop.create_task(syncActiveLock())\n",
    "progressiveSummaryTask = loop.create_task(progressiveSummary());\n",
    "updateWidgetAsyncTask = loop.create_task(updateWidgetAsync());"
   ]
  }
 ],
 "metadata": {
  "kernelspec": {
   "display_name": "Python 3",
   "language": "python",
   "name": "python3"
  },
  "language_info": {
   "codemirror_mode": {
    "name": "ipython",
    "version": 3
   },
   "file_extension": ".py",
   "mimetype": "text/x-python",
   "name": "python",
   "nbconvert_exporter": "python",
   "pygments_lexer": "ipython3",
   "version": "3.8.8"
  }
 },
 "nbformat": 4,
 "nbformat_minor": 2
}
