{
 "cells": [
  {
   "cell_type": "code",
   "execution_count": 1,
   "metadata": {},
   "outputs": [],
   "source": [
    "import altair as alt\n",
    "import numpy as np\n",
    "import pandas as pd\n",
    "import math\n",
    "import vega\n",
    "import random\n",
    "import time\n",
    "from IPython.display import display\n",
    "import ipywidgets as widgets\n",
    "import asyncio"
   ]
  },
  {
   "cell_type": "code",
   "execution_count": 2,
   "metadata": {},
   "outputs": [],
   "source": [
    "dataframe = pd.read_csv(\"./data/penguins.csv\")\n",
    "data = dataframe.sample(n=len(dataframe), random_state=42).reset_index(drop=True)\n",
    "# data = dataframe.reindex(np.random.permutation( .... series.index ....))\n",
    "data = list(map(lambda item: [item[0], item[len(item)-2]], data.values))"
   ]
  },
  {
   "cell_type": "code",
   "execution_count": 3,
   "metadata": {},
   "outputs": [],
   "source": [
    "data2 = pd.read_json(\"./data/summary.json\")"
   ]
  },
  {
   "cell_type": "code",
   "execution_count": 4,
   "metadata": {},
   "outputs": [],
   "source": [
    "def getBoxPlot(summaryData):\n",
    "    base = alt.Chart(summaryData).encode(y=\"Species:N\")\n",
    "\n",
    "    ruleChart = base.mark_rule().encode(\n",
    "        x = \"lower:Q\",\n",
    "        x2 = \"upper:Q\"\n",
    "    )\n",
    "    # display(ruleChart)\n",
    "\n",
    "    barChart = base.mark_bar(\n",
    "        height = 14\n",
    "    ).encode(\n",
    "        x = \"q1:Q\",\n",
    "        x2 = \"q3:Q\",\n",
    "        color = \"Species:N\"\n",
    "    )\n",
    "\n",
    "    tickChart = base.mark_tick(\n",
    "        color = \"white\",\n",
    "        size = 14\n",
    "    ).encode(\n",
    "        x = \"median:Q\"\n",
    "    )\n",
    "\n",
    "    pointChart = base.mark_point().transform_flatten(['outliers']).encode(\n",
    "        x = \"outliers:Q\"\n",
    "    )\n",
    "\n",
    "    return ruleChart + barChart + tickChart + pointChart"
   ]
  },
  {
   "cell_type": "code",
   "execution_count": 5,
   "metadata": {},
   "outputs": [],
   "source": [
    "def quantileSorted(arrSorted, q):\n",
    "    length = len(arrSorted)\n",
    "    base = length * q - 0.5\n",
    "    first = arrSorted[math.ceil(base)]\n",
    "    second = arrSorted[math.floor(base)]\n",
    "    return (first + second) / 2"
   ]
  },
  {
   "cell_type": "code",
   "execution_count": 6,
   "metadata": {},
   "outputs": [],
   "source": [
    "\n",
    "def calculateSummary(key, sortedArr):\n",
    "    if len(sortedArr) <= 0:\n",
    "        return {\n",
    "            \"Species\": key,\n",
    "            \"lower\": 0,\n",
    "            \"q1\": 0,\n",
    "            \"median\": 0,\n",
    "            \"q3\": 0,\n",
    "            \"upper\": 0,\n",
    "            \"outliers\": 0, \n",
    "        }\n",
    "    q1 = quantileSorted(sortedArr, 0.25)\n",
    "    median = quantileSorted(sortedArr, 0.5)\n",
    "    q3 = quantileSorted(sortedArr, 0.75)\n",
    "    \n",
    "    iqr = q3 - q1\n",
    "    top = q3 + 1.5 * iqr\n",
    "    bottom = q1 - 1.5 * iqr\n",
    "    upper = sortedArr[0]\n",
    "    lower = sortedArr[0]\n",
    "    outliers = []\n",
    "    for i in range(len(sortedArr)):\n",
    "        curNum = sortedArr[i]\n",
    "        if (curNum < bottom) or (curNum > top):\n",
    "            outliers.append(curNum)\n",
    "        elif curNum > upper:\n",
    "            upper = curNum\n",
    "        elif curNum < lower:\n",
    "            lower = curNum\n",
    "    \n",
    "    return {\n",
    "        \"Species\": key,\n",
    "        \"lower\": lower,\n",
    "        \"q1\": q1,\n",
    "        \"median\": median,\n",
    "        \"q3\": q3,\n",
    "        \"upper\": upper,\n",
    "        \"outliers\": outliers,\n",
    "    }\n"
   ]
  },
  {
   "cell_type": "code",
   "execution_count": 7,
   "metadata": {},
   "outputs": [],
   "source": [
    "def group(data):\n",
    "    res = {'Adelie': [], 'Chinstrap': [], 'Gentoo': []}\n",
    "    for item in data:\n",
    "        species = item[0];\n",
    "        res[species].append(item[1])\n",
    "    return res"
   ]
  },
  {
   "cell_type": "code",
   "execution_count": 8,
   "metadata": {},
   "outputs": [],
   "source": [
    "def mergeSortedData(oldData, newData):\n",
    "    newLength = len(newData)\n",
    "    if (newLength == 0):\n",
    "        return oldData\n",
    "    oldLength = len(oldData)\n",
    "    if(oldLength == 0):\n",
    "        return newData\n",
    "    result = []\n",
    "    m = 0\n",
    "    n = 0\n",
    "    while m < oldLength and n < newLength:\n",
    "        if oldData[m] <= newData[n]:\n",
    "            result.append(oldData[m])\n",
    "            m += 1\n",
    "        else:\n",
    "            result.append(newData[n])\n",
    "            n += 1\n",
    "    \n",
    "    if m >= oldLength:\n",
    "        result.append(newData[n])\n",
    "        n += 1\n",
    "        while n < newLength:\n",
    "            result.append(newData[n])\n",
    "            n += 1\n",
    "    elif n >= newLength:\n",
    "        result.append(oldData[m])\n",
    "        m += 1\n",
    "        while m < oldLength:\n",
    "            result.append(oldData[m])\n",
    "            m += 1\n",
    "    \n",
    "    return result\n"
   ]
  },
  {
   "cell_type": "code",
   "execution_count": 9,
   "metadata": {},
   "outputs": [
    {
     "data": {
      "text/plain": [
       "[1, 2, 3, 4, 6]"
      ]
     },
     "execution_count": 9,
     "metadata": {},
     "output_type": "execute_result"
    }
   ],
   "source": [
    "mergeSortedData([1, 3, 4], [2, 6])"
   ]
  },
  {
   "cell_type": "code",
   "execution_count": 10,
   "metadata": {},
   "outputs": [],
   "source": [
    "\n",
    "    \n",
    "def mergeData(dataMerged, dataSegment):\n",
    "    for key in dataMerged.keys():\n",
    "        valuesOld = dataMerged[key]\n",
    "        valuesNew = dataSegment[key]\n",
    "        valuesNew.sort()\n",
    "        # sorted(valuesNew, key=lambda a,b: a-b)\n",
    "        dataMerged[key] = mergeSortedData(valuesOld, valuesNew)\n",
    "    return dataMerged\n"
   ]
  },
  {
   "cell_type": "code",
   "execution_count": 11,
   "metadata": {
    "scrolled": false
   },
   "outputs": [
    {
     "data": {
      "application/vnd.jupyter.widget-view+json": {
       "model_id": "dc9e6495484d45d494e29bdc7037f82a",
       "version_major": 2,
       "version_minor": 0
      },
      "text/plain": [
       "Output(layout=Layout(border='1px solid black', height='200px'))"
      ]
     },
     "metadata": {},
     "output_type": "display_data"
    }
   ],
   "source": [
    "out = widgets.Output(layout={'border': '1px solid black', \"height\": '200px'})\n",
    "out"
   ]
  },
  {
   "cell_type": "code",
   "execution_count": 12,
   "metadata": {},
   "outputs": [],
   "source": [
    "def summaryData(dataGrouped):\n",
    "    summary = [];\n",
    "    for key in dataMerged.keys():\n",
    "        masses = dataMerged[key]\n",
    "        summary.append(calculateSummary(key, masses))\n",
    "    return summary"
   ]
  },
  {
   "cell_type": "code",
   "execution_count": 13,
   "metadata": {},
   "outputs": [],
   "source": [
    "batchSize = 30\n",
    "itrNum = math.ceil(len(data) / batchSize)\n",
    "dataMerged = {'Adelie': [], 'Chinstrap': [], 'Gentoo': []}\n",
    "\n",
    "for itr in range(itrNum):\n",
    "#     reply = input(\"continue? Y or N: \")\n",
    "#     if reply.upper() != 'Y':\n",
    "#         break;\n",
    "    dataSegment = data[itr * batchSize: (itr+1) * batchSize]\n",
    "    dataGrouped = group(dataSegment)\n",
    "    dataMerged = mergeData(dataMerged, dataGrouped)\n",
    "    summary = summaryData(dataMerged)\n",
    "    \n",
    "    summary = alt.Data(values = summary)\n",
    "    time.sleep(1)\n",
    "    with out:\n",
    "        out.clear_output()\n",
    "        display(getBoxPlot(summary))"
   ]
  },
  {
   "cell_type": "code",
   "execution_count": 14,
   "metadata": {},
   "outputs": [
    {
     "data": {
      "text/plain": [
       "<bound method TopLevelMixin.__repr__ of alt.LayerChart(...)>"
      ]
     },
     "execution_count": 14,
     "metadata": {},
     "output_type": "execute_result"
    }
   ],
   "source": [
    "a = getBoxPlot(data2)\n",
    "a.__repr__"
   ]
  },
  {
   "cell_type": "code",
   "execution_count": 15,
   "metadata": {},
   "outputs": [
    {
     "data": {
      "text/html": [
       "\n",
       "<div id=\"altair-viz-04308d77787043c2914f9c7ae79f1de5\"></div>\n",
       "<script type=\"text/javascript\">\n",
       "  (function(spec, embedOpt){\n",
       "    let outputDiv = document.currentScript.previousElementSibling;\n",
       "    if (outputDiv.id !== \"altair-viz-04308d77787043c2914f9c7ae79f1de5\") {\n",
       "      outputDiv = document.getElementById(\"altair-viz-04308d77787043c2914f9c7ae79f1de5\");\n",
       "    }\n",
       "    const paths = {\n",
       "      \"vega\": \"https://cdn.jsdelivr.net/npm//vega@5?noext\",\n",
       "      \"vega-lib\": \"https://cdn.jsdelivr.net/npm//vega-lib?noext\",\n",
       "      \"vega-lite\": \"https://cdn.jsdelivr.net/npm//vega-lite@4.8.1?noext\",\n",
       "      \"vega-embed\": \"https://cdn.jsdelivr.net/npm//vega-embed@6?noext\",\n",
       "    };\n",
       "\n",
       "    function loadScript(lib) {\n",
       "      return new Promise(function(resolve, reject) {\n",
       "        var s = document.createElement('script');\n",
       "        s.src = paths[lib];\n",
       "        s.async = true;\n",
       "        s.onload = () => resolve(paths[lib]);\n",
       "        s.onerror = () => reject(`Error loading script: ${paths[lib]}`);\n",
       "        document.getElementsByTagName(\"head\")[0].appendChild(s);\n",
       "      });\n",
       "    }\n",
       "\n",
       "    function showError(err) {\n",
       "      outputDiv.innerHTML = `<div class=\"error\" style=\"color:red;\">${err}</div>`;\n",
       "      throw err;\n",
       "    }\n",
       "\n",
       "    function displayChart(vegaEmbed) {\n",
       "      vegaEmbed(outputDiv, spec, embedOpt)\n",
       "        .catch(err => showError(`Javascript Error: ${err.message}<br>This usually means there's a typo in your chart specification. See the javascript console for the full traceback.`));\n",
       "    }\n",
       "\n",
       "    if(typeof define === \"function\" && define.amd) {\n",
       "      requirejs.config({paths});\n",
       "      require([\"vega-embed\"], displayChart, err => showError(`Error loading script: ${err.message}`));\n",
       "    } else if (typeof vegaEmbed === \"function\") {\n",
       "      displayChart(vegaEmbed);\n",
       "    } else {\n",
       "      loadScript(\"vega\")\n",
       "        .then(() => loadScript(\"vega-lite\"))\n",
       "        .then(() => loadScript(\"vega-embed\"))\n",
       "        .catch(showError)\n",
       "        .then(() => displayChart(vegaEmbed));\n",
       "    }\n",
       "  })({\"config\": {\"view\": {\"continuousWidth\": 400, \"continuousHeight\": 300}}, \"layer\": [{\"mark\": \"rule\", \"encoding\": {\"x\": {\"type\": \"quantitative\", \"field\": \"lower\"}, \"x2\": {\"field\": \"upper\"}, \"y\": {\"type\": \"nominal\", \"field\": \"Species\"}}}, {\"mark\": {\"type\": \"bar\", \"height\": 14}, \"encoding\": {\"color\": {\"type\": \"nominal\", \"field\": \"Species\"}, \"x\": {\"type\": \"quantitative\", \"field\": \"q1\"}, \"x2\": {\"field\": \"q3\"}, \"y\": {\"type\": \"nominal\", \"field\": \"Species\"}}}, {\"mark\": {\"type\": \"tick\", \"color\": \"white\", \"size\": 14}, \"encoding\": {\"x\": {\"type\": \"quantitative\", \"field\": \"median\"}, \"y\": {\"type\": \"nominal\", \"field\": \"Species\"}}}, {\"mark\": \"point\", \"encoding\": {\"x\": {\"type\": \"quantitative\", \"field\": \"outliers\"}, \"y\": {\"type\": \"nominal\", \"field\": \"Species\"}}, \"transform\": [{\"flatten\": [\"outliers\"]}]}], \"data\": {\"name\": \"data-6057a37ced75194288f44a4370b29db6\"}, \"$schema\": \"https://vega.github.io/schema/vega-lite/v4.8.1.json\", \"datasets\": {\"data-6057a37ced75194288f44a4370b29db6\": [{\"Species\": \"Adelie\", \"lower\": 2850, \"q1\": 3350.0, \"median\": 3700, \"q3\": 4000, \"upper\": 4775, \"outliers\": []}, {\"Species\": \"Chinstrap\", \"lower\": 2700, \"q1\": 3487.5, \"median\": 3700, \"q3\": 3950, \"upper\": 4800, \"outliers\": [2700, 4800]}, {\"Species\": \"Gentoo\", \"lower\": 3950, \"q1\": 4700.0, \"median\": 5000, \"q3\": 5500, \"upper\": 6300, \"outliers\": []}]}}, {\"mode\": \"vega-lite\"});\n",
       "</script>"
      ],
      "text/plain": [
       "alt.LayerChart(...)"
      ]
     },
     "metadata": {},
     "output_type": "display_data"
    }
   ],
   "source": [
    "display(a)"
   ]
  },
  {
   "cell_type": "code",
   "execution_count": null,
   "metadata": {},
   "outputs": [],
   "source": []
  }
 ],
 "metadata": {
  "kernelspec": {
   "display_name": "Python 3",
   "language": "python",
   "name": "python3"
  },
  "language_info": {
   "codemirror_mode": {
    "name": "ipython",
    "version": 3
   },
   "file_extension": ".py",
   "mimetype": "text/x-python",
   "name": "python",
   "nbconvert_exporter": "python",
   "pygments_lexer": "ipython3",
   "version": "3.8.8"
  }
 },
 "nbformat": 4,
 "nbformat_minor": 2
}
